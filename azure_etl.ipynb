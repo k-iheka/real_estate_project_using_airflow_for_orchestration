{
 "cells": [
  {
   "cell_type": "code",
   "execution_count": null,
   "metadata": {},
   "outputs": [],
   "source": [
    "!pip install azure-storage-blob\n",
    "!pip install python-dotenv\n"
   ]
  },
  {
   "cell_type": "code",
   "execution_count": 2,
   "metadata": {},
   "outputs": [
    {
     "name": "stdout",
     "output_type": "stream",
     "text": [
      "Requirement already satisfied: pyarrow in c:\\users\\hp\\appdata\\local\\programs\\python\\python312\\lib\\site-packages (16.0.0)\n",
      "Requirement already satisfied: numpy>=1.16.6 in c:\\users\\hp\\appdata\\local\\programs\\python\\python312\\lib\\site-packages (from pyarrow) (1.26.4)\n"
     ]
    }
   ],
   "source": [
    "!pip install pyarrow"
   ]
  },
  {
   "cell_type": "code",
   "execution_count": 5,
   "metadata": {},
   "outputs": [],
   "source": [
    "import psycopg2\n",
    "import pandas as pd\n",
    "import io\n",
    "import os\n",
    "from azure.storage.blob import BlobServiceClient, BlobClient\n",
    "from dotenv import load_dotenv\n",
    "\n"
   ]
  },
  {
   "cell_type": "markdown",
   "metadata": {},
   "source": [
    "## Extraction"
   ]
  },
  {
   "cell_type": "code",
   "execution_count": 4,
   "metadata": {},
   "outputs": [],
   "source": [
    "# Define database parameters\n",
    "db_params = {\n",
    "    'user':'internship',\n",
    "    'password':'10alytics!',\n",
    "    'host':'10alyticsinternship.postgres.database.azure.com',\n",
    "    'port': '5432',\n",
    "    'database':'kongoecommerce'\n",
    "}"
   ]
  },
  {
   "cell_type": "code",
   "execution_count": 5,
   "metadata": {},
   "outputs": [],
   "source": [
    "def extract_table_to_dataframe(table_name, conn):\n",
    "    query = f\"SELECT * FROM {table_name}\"\n",
    "    df = pd.read_sql_query(query, conn)\n",
    "    return df \n"
   ]
  },
  {
   "cell_type": "code",
   "execution_count": 6,
   "metadata": {},
   "outputs": [],
   "source": [
    "# Extracting df\n",
    "connection = psycopg2.connect(**db_params)"
   ]
  },
  {
   "cell_type": "code",
   "execution_count": null,
   "metadata": {},
   "outputs": [],
   "source": [
    "# Extracting Cart data \n",
    "cart_df = extract_table_to_dataframe('cart', connection)\n",
    "cart_df.head()"
   ]
  },
  {
   "cell_type": "code",
   "execution_count": null,
   "metadata": {},
   "outputs": [],
   "source": [
    "# Extracting products data \n",
    "products_df = extract_table_to_dataframe('products', connection)\n",
    "products_df.head()"
   ]
  },
  {
   "cell_type": "code",
   "execution_count": null,
   "metadata": {},
   "outputs": [],
   "source": [
    "# Extracting sales data \n",
    "sales_df = extract_table_to_dataframe('sales', connection)\n",
    "sales_df.head()"
   ]
  },
  {
   "cell_type": "code",
   "execution_count": null,
   "metadata": {},
   "outputs": [],
   "source": [
    "# Extracting users data \n",
    "users_df = extract_table_to_dataframe('users', connection)\n",
    "users_df.head()"
   ]
  },
  {
   "cell_type": "code",
   "execution_count": 11,
   "metadata": {},
   "outputs": [],
   "source": [
    "#Save to csv\n",
    "cart_df.to_csv('dataset/raw_data/cart.csv', index=False)\n",
    "products_df.to_csv('dataset/raw_data/products.csv', index=False)\n",
    "sales_df.to_csv('dataset/raw_data/sales.csv', index=False)\n",
    "users_df.to_csv('dataset/raw_data/users.csv', index=False)"
   ]
  },
  {
   "cell_type": "code",
   "execution_count": 33,
   "metadata": {},
   "outputs": [],
   "source": [
    "r_cart = pd.read_csv(r'dataset/raw_data/cart.csv')\n",
    "r_product = pd.read_csv(r'dataset/raw_data/products.csv')\n",
    "r_sales = pd.read_csv(r'dataset/raw_data/sales.csv')\n",
    "r_user = pd.read_csv(r'dataset/raw_data/users.csv')"
   ]
  },
  {
   "cell_type": "markdown",
   "metadata": {},
   "source": [
    "## Transformation"
   ]
  },
  {
   "cell_type": "code",
   "execution_count": 12,
   "metadata": {},
   "outputs": [
    {
     "name": "stdout",
     "output_type": "stream",
     "text": [
      "<class 'pandas.core.frame.DataFrame'>\n",
      "RangeIndex: 7 entries, 0 to 6\n",
      "Data columns (total 4 columns):\n",
      " #   Column    Non-Null Count  Dtype \n",
      "---  ------    --------------  ----- \n",
      " 0   id        7 non-null      int64 \n",
      " 1   userId    7 non-null      int64 \n",
      " 2   date      7 non-null      object\n",
      " 3   products  7 non-null      object\n",
      "dtypes: int64(2), object(2)\n",
      "memory usage: 356.0+ bytes\n"
     ]
    }
   ],
   "source": [
    "cart_df.info()"
   ]
  },
  {
   "cell_type": "code",
   "execution_count": 13,
   "metadata": {},
   "outputs": [],
   "source": [
    "cart_df['date'] = pd.to_datetime(cart_df['date'])"
   ]
  },
  {
   "cell_type": "code",
   "execution_count": 14,
   "metadata": {},
   "outputs": [
    {
     "name": "stdout",
     "output_type": "stream",
     "text": [
      "<class 'pandas.core.frame.DataFrame'>\n",
      "RangeIndex: 20 entries, 0 to 19\n",
      "Data columns (total 6 columns):\n",
      " #   Column       Non-Null Count  Dtype  \n",
      "---  ------       --------------  -----  \n",
      " 0   id           20 non-null     int64  \n",
      " 1   title        20 non-null     object \n",
      " 2   price        20 non-null     float64\n",
      " 3   description  20 non-null     object \n",
      " 4   category     20 non-null     object \n",
      " 5   image        20 non-null     object \n",
      "dtypes: float64(1), int64(1), object(4)\n",
      "memory usage: 1.1+ KB\n"
     ]
    }
   ],
   "source": [
    "products_df.info()"
   ]
  },
  {
   "cell_type": "code",
   "execution_count": 15,
   "metadata": {},
   "outputs": [],
   "source": [
    "products_df.rename(columns={'id':'product_id'}, inplace=True)"
   ]
  },
  {
   "cell_type": "code",
   "execution_count": 16,
   "metadata": {},
   "outputs": [
    {
     "name": "stdout",
     "output_type": "stream",
     "text": [
      "<class 'pandas.core.frame.DataFrame'>\n",
      "RangeIndex: 1000 entries, 0 to 999\n",
      "Data columns (total 7 columns):\n",
      " #   Column            Non-Null Count  Dtype  \n",
      "---  ------            --------------  -----  \n",
      " 0   customer_id       1000 non-null   int64  \n",
      " 1   customer_name     1000 non-null   object \n",
      " 2   Transaction_Date  1000 non-null   object \n",
      " 3   email_address     1000 non-null   object \n",
      " 4   phone_number      1000 non-null   int64  \n",
      " 5   amount            1000 non-null   float64\n",
      " 6   product           1000 non-null   object \n",
      "dtypes: float64(1), int64(2), object(4)\n",
      "memory usage: 54.8+ KB\n"
     ]
    }
   ],
   "source": [
    "sales_df.info()"
   ]
  },
  {
   "cell_type": "code",
   "execution_count": 17,
   "metadata": {},
   "outputs": [],
   "source": [
    "sales_df['Transaction_Date'] = pd.to_datetime(sales_df['Transaction_Date'])"
   ]
  },
  {
   "cell_type": "code",
   "execution_count": 18,
   "metadata": {},
   "outputs": [
    {
     "name": "stdout",
     "output_type": "stream",
     "text": [
      "<class 'pandas.core.frame.DataFrame'>\n",
      "RangeIndex: 10 entries, 0 to 9\n",
      "Data columns (total 13 columns):\n",
      " #   Column                    Non-Null Count  Dtype  \n",
      "---  ------                    --------------  -----  \n",
      " 0   id                        10 non-null     int64  \n",
      " 1   email                     10 non-null     object \n",
      " 2   username                  10 non-null     object \n",
      " 3   password                  10 non-null     object \n",
      " 4   phone                     10 non-null     object \n",
      " 5   address_city              10 non-null     object \n",
      " 6   address_street            10 non-null     object \n",
      " 7   address_number            10 non-null     int64  \n",
      " 8   address_zipcode           10 non-null     object \n",
      " 9   address_geolocation_lat   10 non-null     float64\n",
      " 10  address_geolocation_long  10 non-null     float64\n",
      " 11  name_firstname            10 non-null     object \n",
      " 12  name_lastname             10 non-null     object \n",
      "dtypes: float64(2), int64(2), object(9)\n",
      "memory usage: 1.1+ KB\n"
     ]
    }
   ],
   "source": [
    "users_df.info()"
   ]
  },
  {
   "cell_type": "code",
   "execution_count": 19,
   "metadata": {},
   "outputs": [
    {
     "data": {
      "text/plain": [
       "Index(['id', 'email', 'username', 'password', 'phone', 'address_city',\n",
       "       'address_street', 'address_number', 'address_zipcode',\n",
       "       'address_geolocation_lat', 'address_geolocation_long', 'name_firstname',\n",
       "       'name_lastname'],\n",
       "      dtype='object')"
      ]
     },
     "execution_count": 19,
     "metadata": {},
     "output_type": "execute_result"
    }
   ],
   "source": [
    "users_df.columns"
   ]
  },
  {
   "cell_type": "code",
   "execution_count": 20,
   "metadata": {},
   "outputs": [],
   "source": [
    "location_dim = users_df[['address_city','address_street', 'address_number', 'address_zipcode', \\\n",
    "                         'address_geolocation_lat', 'address_geolocation_long']].copy().drop_duplicates().reset_index(drop=True)\n"
   ]
  },
  {
   "cell_type": "code",
   "execution_count": 21,
   "metadata": {},
   "outputs": [
    {
     "data": {
      "text/html": [
       "<div>\n",
       "<style scoped>\n",
       "    .dataframe tbody tr th:only-of-type {\n",
       "        vertical-align: middle;\n",
       "    }\n",
       "\n",
       "    .dataframe tbody tr th {\n",
       "        vertical-align: top;\n",
       "    }\n",
       "\n",
       "    .dataframe thead th {\n",
       "        text-align: right;\n",
       "    }\n",
       "</style>\n",
       "<table border=\"1\" class=\"dataframe\">\n",
       "  <thead>\n",
       "    <tr style=\"text-align: right;\">\n",
       "      <th></th>\n",
       "      <th>location_id</th>\n",
       "      <th>address_city</th>\n",
       "      <th>address_street</th>\n",
       "      <th>address_number</th>\n",
       "      <th>address_zipcode</th>\n",
       "      <th>address_geolocation_lat</th>\n",
       "      <th>address_geolocation_long</th>\n",
       "    </tr>\n",
       "  </thead>\n",
       "  <tbody>\n",
       "    <tr>\n",
       "      <th>0</th>\n",
       "      <td>0</td>\n",
       "      <td>kilcoole</td>\n",
       "      <td>new road</td>\n",
       "      <td>7682</td>\n",
       "      <td>12926-3874</td>\n",
       "      <td>-37.3159</td>\n",
       "      <td>81.1496</td>\n",
       "    </tr>\n",
       "    <tr>\n",
       "      <th>1</th>\n",
       "      <td>1</td>\n",
       "      <td>kilcoole</td>\n",
       "      <td>Lovers Ln</td>\n",
       "      <td>7267</td>\n",
       "      <td>12926-3874</td>\n",
       "      <td>-37.3159</td>\n",
       "      <td>81.1496</td>\n",
       "    </tr>\n",
       "    <tr>\n",
       "      <th>2</th>\n",
       "      <td>2</td>\n",
       "      <td>Cullman</td>\n",
       "      <td>Frances Ct</td>\n",
       "      <td>86</td>\n",
       "      <td>29567-1452</td>\n",
       "      <td>40.3467</td>\n",
       "      <td>-30.1310</td>\n",
       "    </tr>\n",
       "    <tr>\n",
       "      <th>3</th>\n",
       "      <td>3</td>\n",
       "      <td>San Antonio</td>\n",
       "      <td>Hunters Creek Dr</td>\n",
       "      <td>6454</td>\n",
       "      <td>98234-1734</td>\n",
       "      <td>50.3467</td>\n",
       "      <td>-20.1310</td>\n",
       "    </tr>\n",
       "    <tr>\n",
       "      <th>4</th>\n",
       "      <td>4</td>\n",
       "      <td>san Antonio</td>\n",
       "      <td>adams St</td>\n",
       "      <td>245</td>\n",
       "      <td>80796-1234</td>\n",
       "      <td>40.3467</td>\n",
       "      <td>-40.1310</td>\n",
       "    </tr>\n",
       "  </tbody>\n",
       "</table>\n",
       "</div>"
      ],
      "text/plain": [
       "   location_id address_city    address_street  address_number address_zipcode  \\\n",
       "0            0     kilcoole          new road            7682      12926-3874   \n",
       "1            1     kilcoole         Lovers Ln            7267      12926-3874   \n",
       "2            2      Cullman        Frances Ct              86      29567-1452   \n",
       "3            3  San Antonio  Hunters Creek Dr            6454      98234-1734   \n",
       "4            4  san Antonio          adams St             245      80796-1234   \n",
       "\n",
       "   address_geolocation_lat  address_geolocation_long  \n",
       "0                 -37.3159                   81.1496  \n",
       "1                 -37.3159                   81.1496  \n",
       "2                  40.3467                  -30.1310  \n",
       "3                  50.3467                  -20.1310  \n",
       "4                  40.3467                  -40.1310  "
      ]
     },
     "execution_count": 21,
     "metadata": {},
     "output_type": "execute_result"
    }
   ],
   "source": [
    "location_dim.index.name = 'location_id'\n",
    "location_dim = location_dim.reset_index()\n",
    "location_dim.head()"
   ]
  },
  {
   "cell_type": "code",
   "execution_count": 22,
   "metadata": {},
   "outputs": [
    {
     "data": {
      "text/html": [
       "<div>\n",
       "<style scoped>\n",
       "    .dataframe tbody tr th:only-of-type {\n",
       "        vertical-align: middle;\n",
       "    }\n",
       "\n",
       "    .dataframe tbody tr th {\n",
       "        vertical-align: top;\n",
       "    }\n",
       "\n",
       "    .dataframe thead th {\n",
       "        text-align: right;\n",
       "    }\n",
       "</style>\n",
       "<table border=\"1\" class=\"dataframe\">\n",
       "  <thead>\n",
       "    <tr style=\"text-align: right;\">\n",
       "      <th></th>\n",
       "      <th>location_id</th>\n",
       "      <th>address_city</th>\n",
       "      <th>address_street</th>\n",
       "      <th>address_number</th>\n",
       "      <th>address_zipcode</th>\n",
       "      <th>address_geolocation_lat</th>\n",
       "      <th>address_geolocation_long</th>\n",
       "    </tr>\n",
       "  </thead>\n",
       "  <tbody>\n",
       "    <tr>\n",
       "      <th>0</th>\n",
       "      <td>0</td>\n",
       "      <td>kilcoole</td>\n",
       "      <td>new road</td>\n",
       "      <td>7682</td>\n",
       "      <td>12926-3874</td>\n",
       "      <td>-37.3159</td>\n",
       "      <td>81.1496</td>\n",
       "    </tr>\n",
       "    <tr>\n",
       "      <th>1</th>\n",
       "      <td>1</td>\n",
       "      <td>kilcoole</td>\n",
       "      <td>Lovers Ln</td>\n",
       "      <td>7267</td>\n",
       "      <td>12926-3874</td>\n",
       "      <td>-37.3159</td>\n",
       "      <td>81.1496</td>\n",
       "    </tr>\n",
       "    <tr>\n",
       "      <th>2</th>\n",
       "      <td>2</td>\n",
       "      <td>Cullman</td>\n",
       "      <td>Frances Ct</td>\n",
       "      <td>86</td>\n",
       "      <td>29567-1452</td>\n",
       "      <td>40.3467</td>\n",
       "      <td>-30.1310</td>\n",
       "    </tr>\n",
       "    <tr>\n",
       "      <th>3</th>\n",
       "      <td>3</td>\n",
       "      <td>San Antonio</td>\n",
       "      <td>Hunters Creek Dr</td>\n",
       "      <td>6454</td>\n",
       "      <td>98234-1734</td>\n",
       "      <td>50.3467</td>\n",
       "      <td>-20.1310</td>\n",
       "    </tr>\n",
       "    <tr>\n",
       "      <th>4</th>\n",
       "      <td>4</td>\n",
       "      <td>san Antonio</td>\n",
       "      <td>adams St</td>\n",
       "      <td>245</td>\n",
       "      <td>80796-1234</td>\n",
       "      <td>40.3467</td>\n",
       "      <td>-40.1310</td>\n",
       "    </tr>\n",
       "  </tbody>\n",
       "</table>\n",
       "</div>"
      ],
      "text/plain": [
       "   location_id address_city    address_street  address_number address_zipcode  \\\n",
       "0            0     kilcoole          new road            7682      12926-3874   \n",
       "1            1     kilcoole         Lovers Ln            7267      12926-3874   \n",
       "2            2      Cullman        Frances Ct              86      29567-1452   \n",
       "3            3  San Antonio  Hunters Creek Dr            6454      98234-1734   \n",
       "4            4  san Antonio          adams St             245      80796-1234   \n",
       "\n",
       "   address_geolocation_lat  address_geolocation_long  \n",
       "0                 -37.3159                   81.1496  \n",
       "1                 -37.3159                   81.1496  \n",
       "2                  40.3467                  -30.1310  \n",
       "3                  50.3467                  -20.1310  \n",
       "4                  40.3467                  -40.1310  "
      ]
     },
     "execution_count": 22,
     "metadata": {},
     "output_type": "execute_result"
    }
   ],
   "source": [
    "location_dim.head()"
   ]
  },
  {
   "cell_type": "code",
   "execution_count": 23,
   "metadata": {},
   "outputs": [
    {
     "data": {
      "text/plain": [
       "Index(['id', 'email', 'username', 'password', 'phone', 'address_city',\n",
       "       'address_street', 'address_number', 'address_zipcode',\n",
       "       'address_geolocation_lat', 'address_geolocation_long', 'name_firstname',\n",
       "       'name_lastname'],\n",
       "      dtype='object')"
      ]
     },
     "execution_count": 23,
     "metadata": {},
     "output_type": "execute_result"
    }
   ],
   "source": [
    "users_df.columns"
   ]
  },
  {
   "cell_type": "code",
   "execution_count": 24,
   "metadata": {},
   "outputs": [],
   "source": [
    "user_dim = users_df.merge(location_dim, on=['address_city','address_street', 'address_number', 'address_zipcode', \\\n",
    "                                            'address_geolocation_lat', 'address_geolocation_long'], how='left') \\\n",
    "                           [['id', 'email', 'username', 'password', 'phone', 'name_firstname','name_lastname','location_id']]\n"
   ]
  },
  {
   "cell_type": "code",
   "execution_count": 25,
   "metadata": {},
   "outputs": [
    {
     "data": {
      "text/html": [
       "<div>\n",
       "<style scoped>\n",
       "    .dataframe tbody tr th:only-of-type {\n",
       "        vertical-align: middle;\n",
       "    }\n",
       "\n",
       "    .dataframe tbody tr th {\n",
       "        vertical-align: top;\n",
       "    }\n",
       "\n",
       "    .dataframe thead th {\n",
       "        text-align: right;\n",
       "    }\n",
       "</style>\n",
       "<table border=\"1\" class=\"dataframe\">\n",
       "  <thead>\n",
       "    <tr style=\"text-align: right;\">\n",
       "      <th></th>\n",
       "      <th>id</th>\n",
       "      <th>email</th>\n",
       "      <th>username</th>\n",
       "      <th>password</th>\n",
       "      <th>phone</th>\n",
       "      <th>name_firstname</th>\n",
       "      <th>name_lastname</th>\n",
       "      <th>location_id</th>\n",
       "    </tr>\n",
       "  </thead>\n",
       "  <tbody>\n",
       "    <tr>\n",
       "      <th>0</th>\n",
       "      <td>1</td>\n",
       "      <td>john@gmail.com</td>\n",
       "      <td>johnd</td>\n",
       "      <td>m38rmF$</td>\n",
       "      <td>1-570-236-7033</td>\n",
       "      <td>john</td>\n",
       "      <td>doe</td>\n",
       "      <td>0</td>\n",
       "    </tr>\n",
       "    <tr>\n",
       "      <th>1</th>\n",
       "      <td>2</td>\n",
       "      <td>morrison@gmail.com</td>\n",
       "      <td>mor_2314</td>\n",
       "      <td>83r5^_</td>\n",
       "      <td>1-570-236-7033</td>\n",
       "      <td>david</td>\n",
       "      <td>morrison</td>\n",
       "      <td>1</td>\n",
       "    </tr>\n",
       "    <tr>\n",
       "      <th>2</th>\n",
       "      <td>3</td>\n",
       "      <td>kevin@gmail.com</td>\n",
       "      <td>kevinryan</td>\n",
       "      <td>kev02937@</td>\n",
       "      <td>1-567-094-1345</td>\n",
       "      <td>kevin</td>\n",
       "      <td>ryan</td>\n",
       "      <td>2</td>\n",
       "    </tr>\n",
       "    <tr>\n",
       "      <th>3</th>\n",
       "      <td>4</td>\n",
       "      <td>don@gmail.com</td>\n",
       "      <td>donero</td>\n",
       "      <td>ewedon</td>\n",
       "      <td>1-765-789-6734</td>\n",
       "      <td>don</td>\n",
       "      <td>romer</td>\n",
       "      <td>3</td>\n",
       "    </tr>\n",
       "    <tr>\n",
       "      <th>4</th>\n",
       "      <td>5</td>\n",
       "      <td>derek@gmail.com</td>\n",
       "      <td>derek</td>\n",
       "      <td>jklg*_56</td>\n",
       "      <td>1-956-001-1945</td>\n",
       "      <td>derek</td>\n",
       "      <td>powell</td>\n",
       "      <td>4</td>\n",
       "    </tr>\n",
       "  </tbody>\n",
       "</table>\n",
       "</div>"
      ],
      "text/plain": [
       "   id               email   username   password           phone  \\\n",
       "0   1      john@gmail.com      johnd    m38rmF$  1-570-236-7033   \n",
       "1   2  morrison@gmail.com   mor_2314     83r5^_  1-570-236-7033   \n",
       "2   3     kevin@gmail.com  kevinryan  kev02937@  1-567-094-1345   \n",
       "3   4       don@gmail.com     donero     ewedon  1-765-789-6734   \n",
       "4   5     derek@gmail.com      derek   jklg*_56  1-956-001-1945   \n",
       "\n",
       "  name_firstname name_lastname  location_id  \n",
       "0           john           doe            0  \n",
       "1          david      morrison            1  \n",
       "2          kevin          ryan            2  \n",
       "3            don         romer            3  \n",
       "4          derek        powell            4  "
      ]
     },
     "execution_count": 25,
     "metadata": {},
     "output_type": "execute_result"
    }
   ],
   "source": [
    "user_dim.head()"
   ]
  },
  {
   "cell_type": "code",
   "execution_count": 26,
   "metadata": {},
   "outputs": [],
   "source": [
    "user_dim.rename(columns={'id':'customer__id'}, inplace=True)"
   ]
  },
  {
   "cell_type": "code",
   "execution_count": 27,
   "metadata": {},
   "outputs": [
    {
     "name": "stdout",
     "output_type": "stream",
     "text": [
      "<class 'pandas.core.frame.DataFrame'>\n",
      "RangeIndex: 7 entries, 0 to 6\n",
      "Data columns (total 4 columns):\n",
      " #   Column    Non-Null Count  Dtype         \n",
      "---  ------    --------------  -----         \n",
      " 0   id        7 non-null      int64         \n",
      " 1   userId    7 non-null      int64         \n",
      " 2   date      7 non-null      datetime64[ns]\n",
      " 3   products  7 non-null      object        \n",
      "dtypes: datetime64[ns](1), int64(2), object(1)\n",
      "memory usage: 356.0+ bytes\n"
     ]
    }
   ],
   "source": [
    "cart_df.info()"
   ]
  },
  {
   "cell_type": "code",
   "execution_count": 40,
   "metadata": {},
   "outputs": [],
   "source": [
    "#Saving to csv\n",
    "cart_df.to_csv('dataset/cleaned_data/clean_cart.csv', index=False)\n",
    "user_dim.to_csv('dataset/cleaned_data/clean_user.csv', index=False)\n",
    "location_dim.to_csv('dataset/cleaned_data/clean_location.csv', index=False)\n",
    "products_df.to_csv('dataset/cleaned_data/clean_products.csv', index=False)\n",
    "sales_df.to_csv('dataset/cleaned_data/clean_sales.csv', index=False)"
   ]
  },
  {
   "cell_type": "markdown",
   "metadata": {},
   "source": [
    "## Loading"
   ]
  },
  {
   "cell_type": "code",
   "execution_count": null,
   "metadata": {},
   "outputs": [],
   "source": [
    "# Setup our connection\n",
    "connection_string = os.getenv('AZURE_STORAGE_CONNECTION_STRING')\n",
    "container_name = os.getenv('AZURE_STORAGE_CONTAINER_NAME')\n",
    "\n",
    "blob_service_client = BlobServiceClient.from_connection_string(connection_string)\n",
    "container_client = blob_service_client.get_container_client(container_name)\n"
   ]
  },
  {
   "cell_type": "code",
   "execution_count": 49,
   "metadata": {},
   "outputs": [],
   "source": [
    "def upload_df_to_blob_container(df, container_client, blob_name):\n",
    "    buffer = io.BytesIO()\n",
    "    df.to_parquet(buffer, index=False)\n",
    "    buffer.seek(0)\n",
    "    blob_client = container_client.get_blob_client(blob_name)\n",
    "    blob_client.upload_blob(buffer, blob_type=\"BlockBlob\",overwrite=True)\n",
    "    print(f'{blob_name} uploaded to Blob storage successfully')"
   ]
  },
  {
   "cell_type": "code",
   "execution_count": 60,
   "metadata": {},
   "outputs": [
    {
     "name": "stdout",
     "output_type": "stream",
     "text": [
      "rawdata/cart.parquet uploaded to Blob storage successfully\n",
      "rawdata/product.parquet uploaded to Blob storage successfully\n",
      "rawdata/sales.parquet uploaded to Blob storage successfully\n",
      "rawdata/user.parquet uploaded to Blob storage successfully\n"
     ]
    }
   ],
   "source": [
    "upload_df_to_blob_container(r_cart, container_client, 'rawdata/cart.parquet')\n",
    "upload_df_to_blob_container(r_product, container_client, 'rawdata/product.parquet')\n",
    "upload_df_to_blob_container(r_sales, container_client, 'rawdata/sales.parquet')\n",
    "upload_df_to_blob_container(r_user, container_client, 'rawdata/user.parquet')"
   ]
  },
  {
   "cell_type": "code",
   "execution_count": 61,
   "metadata": {},
   "outputs": [
    {
     "name": "stdout",
     "output_type": "stream",
     "text": [
      "cleandata/cart_dim.parquet uploaded to Blob storage successfully\n",
      "cleandata/product_dim.parquet uploaded to Blob storage successfully\n",
      "cleandata/sales_fact.parquet uploaded to Blob storage successfully\n",
      "cleandata/user_dim.parquet uploaded to Blob storage successfully\n",
      "cleandata/location_dim.parquet uploaded to Blob storage successfully\n"
     ]
    }
   ],
   "source": [
    "upload_df_to_blob_container(cart_df, container_client, 'cleandata/cart_dim.parquet')\n",
    "upload_df_to_blob_container(products_df, container_client, 'cleandata/product_dim.parquet')\n",
    "upload_df_to_blob_container(sales_df, container_client, 'cleandata/sales_fact.parquet')\n",
    "upload_df_to_blob_container(user_dim, container_client, 'cleandata/user_dim.parquet')\n",
    "upload_df_to_blob_container(location_dim, container_client, 'cleandata/location_dim.parquet')"
   ]
  },
  {
   "cell_type": "code",
   "execution_count": null,
   "metadata": {},
   "outputs": [],
   "source": []
  }
 ],
 "metadata": {
  "kernelspec": {
   "display_name": "base",
   "language": "python",
   "name": "python3"
  },
  "language_info": {
   "codemirror_mode": {
    "name": "ipython",
    "version": 3
   },
   "file_extension": ".py",
   "mimetype": "text/x-python",
   "name": "python",
   "nbconvert_exporter": "python",
   "pygments_lexer": "ipython3",
   "version": "3.12.2"
  }
 },
 "nbformat": 4,
 "nbformat_minor": 2
}
