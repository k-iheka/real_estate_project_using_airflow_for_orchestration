{
 "cells": [
  {
   "cell_type": "code",
   "execution_count": null,
   "metadata": {},
   "outputs": [],
   "source": [
    "!pip install azure-storage-blob pyarrow pandas\n"
   ]
  },
  {
   "cell_type": "code",
   "execution_count": null,
   "metadata": {},
   "outputs": [],
   "source": [
    "# Import necessary dependencies\n",
    "import psycopg2\n",
    "import pandas as pd\n",
    "import io\n",
    "import os\n",
    "from azure.storage.blob import BlobServiceClient, BlobClient\n",
    "import requests\n",
    "import json\n"
   ]
  },
  {
   "cell_type": "code",
   "execution_count": null,
   "metadata": {},
   "outputs": [],
   "source": [
    "\n",
    "# Extraction layer\n",
    "url = \"https://realty-mole-property-api.p.rapidapi.com/properties\"\n",
    "\n",
    "querystring = {\"limit\":\"500\"}\n",
    "\n",
    "headers = {\n",
    "\t\"X-RapidAPI-Key\": \"7fc521eee3msh22f7b3551ecef82p100f89jsn71a07ea1c1d6\",\n",
    "\t\"X-RapidAPI-Host\": \"realty-mole-property-api.p.rapidapi.com\"\n",
    "}\n",
    "\n",
    "response = requests.get(url, headers=headers, params=querystring)\n",
    "\n",
    "print(response.json())"
   ]
  },
  {
   "cell_type": "code",
   "execution_count": null,
   "metadata": {},
   "outputs": [],
   "source": [
    "data = response.json()\n",
    "\n",
    "filename = 'real_estate.json'\n",
    "\n",
    "with open(filename, 'w') as file:\n",
    "    json.dump(data, file, indent=4)"
   ]
  },
  {
   "cell_type": "code",
   "execution_count": null,
   "metadata": {},
   "outputs": [],
   "source": [
    "#loadin into dataframe\n",
    "real_estate_df = pd.read_json('real_estate.json')"
   ]
  },
  {
   "cell_type": "code",
   "execution_count": null,
   "metadata": {},
   "outputs": [],
   "source": [
    "real_estate_df.head()"
   ]
  },
  {
   "cell_type": "code",
   "execution_count": null,
   "metadata": {},
   "outputs": [],
   "source": [
    "# Transformation layer\n",
    "real_estate_df.columns"
   ]
  },
  {
   "cell_type": "code",
   "execution_count": null,
   "metadata": {},
   "outputs": [],
   "source": [
    "location_dim = real_estate_df[['id','addressLine1', 'city', 'state', 'zipCode', 'formattedAddress', \\\n",
    "                             'county', 'longitude','latitude']].copy().drop_duplicates().reset_index(drop=True)\n",
    "location_dim.index.name= 'location_id'\n",
    "location_dim= location_dim.reset_index()"
   ]
  },
  {
   "cell_type": "code",
   "execution_count": null,
   "metadata": {},
   "outputs": [],
   "source": [
    "location_dim.head()"
   ]
  },
  {
   "cell_type": "code",
   "execution_count": null,
   "metadata": {},
   "outputs": [],
   "source": [
    "features_dim = pd.json_normalize(real_estate_df['features'])\n",
    "features_dim['id'] = real_estate_df['id']\n",
    "features_dim['squareFootage'] = real_estate_df['squareFootage']\n",
    "features_dim['bedrooms'] = real_estate_df['bedrooms']\n",
    "features_dim['bathrooms'] = real_estate_df['bathrooms']\n",
    "features_dim.index.name= 'features_id'\n",
    "features_dim=features_dim.reset_index()\n",
    "features_dim= features_dim[['features_id','id','floorCount', 'architectureType', 'exteriorType', \\\n",
    "                            'foundationType', 'roofType', 'fireplace', 'unitCount', 'garage', \\\n",
    "                            'garageSpaces', 'garageType', 'cooling', 'coolingType', 'heating', \\\n",
    "                            'heatingType', 'roomCount', 'pool', 'fireplaceType', 'poolType', \\\n",
    "                            'squareFootage', 'bedrooms', 'bathrooms']]\n"
   ]
  },
  {
   "cell_type": "code",
   "execution_count": null,
   "metadata": {},
   "outputs": [],
   "source": [
    "features_dim.head(2)"
   ]
  },
  {
   "cell_type": "code",
   "execution_count": null,
   "metadata": {},
   "outputs": [],
   "source": [
    "sales_dim= real_estate_df[['id', 'lastSalePrice','lastSaleDate' ]].copy().drop_duplicates().reset_index(drop=True)\n",
    "sales_dim.index.name= 'sales_id'\n",
    "sales_dim=sales_dim.reset_index()\n",
    "sales_dim.head(2)"
   ]
  },
  {
   "cell_type": "code",
   "execution_count": null,
   "metadata": {},
   "outputs": [],
   "source": [
    "tax_assessment_dim= pd.json_normalize(real_estate_df['taxAssessment'])\n",
    "tax_assessment_dim.index.name = 'tax_ass_id'\n",
    "tax_assessment_dim=tax_assessment_dim.reset_index()\n",
    "tax_assessment_dim['id'] = real_estate_df['id']\n",
    "tax_assessment_dim=tax_assessment_dim[['tax_ass_id','id', '2019.value', '2019.improvements', '2022.value', \\\n",
    "                                        '2022.improvements', '2023.value', '2023.improvements', '2019.land', \\\n",
    "                                        '2020.value', '2020.land', '2020.improvements', '2022.land', \\\n",
    "                                        '2023.land', '2018.value', '2018.land', '2018.improvements', \\\n",
    "                                        '2021.value', '2021.land', '2021.improvements', '2013.value', \\\n",
    "                                        '2013.land', '2013.improvements', '2014.value', '2014.land', \\\n",
    "                                        '2014.improvements', '2015.value', '2015.land', '2015.improvements', \\\n",
    "                                        '2016.value', '2016.land', '2016.improvements', '2017.value', \\\n",
    "                                        '2017.land', '2017.improvements', '0.date']]"
   ]
  },
  {
   "cell_type": "code",
   "execution_count": null,
   "metadata": {},
   "outputs": [],
   "source": [
    "tax_assessment_dim.head(2)"
   ]
  },
  {
   "cell_type": "code",
   "execution_count": null,
   "metadata": {},
   "outputs": [],
   "source": [
    "real_estate_df.columns"
   ]
  },
  {
   "cell_type": "code",
   "execution_count": null,
   "metadata": {},
   "outputs": [],
   "source": [
    "propertyTax_dim = pd.json_normalize(real_estate_df['propertyTaxes'])\n",
    "propertyTax_dim['id'] = real_estate_df['id']\n",
    "propertyTax_dim.index.name= 'property_tax_id'\n",
    "propertyTax_dim= propertyTax_dim.reset_index()\n",
    "propertyTax_dim = propertyTax_dim[['property_tax_id','id','2018.total', '2019.total', '2022.total', '2017.total', '2021.total', \\\n",
    "                                    '2013.total', '2014.total', '2015.total', '2016.total', '2020.total', \\\n",
    "                                    '2023.total']]"
   ]
  },
  {
   "cell_type": "code",
   "execution_count": null,
   "metadata": {},
   "outputs": [],
   "source": [
    "propertyTax_dim.head(2)"
   ]
  },
  {
   "cell_type": "code",
   "execution_count": null,
   "metadata": {},
   "outputs": [],
   "source": [
    "real_estate_df.columns"
   ]
  },
  {
   "cell_type": "code",
   "execution_count": null,
   "metadata": {},
   "outputs": [],
   "source": [
    "owner_dim= pd.json_normalize(real_estate_df['owner'])\n",
    "owner_dim['id']= real_estate_df['id']\n",
    "owner_dim.index.name= 'owner_id'\n",
    "owner_dim= owner_dim.reset_index()\n",
    "owner_dim = owner_dim[['owner_id','id','names', 'mailingAddress.id', 'mailingAddress.addressLine1', \\\n",
    "                        'mailingAddress.city', 'mailingAddress.state', 'mailingAddress.zipCode', \\\n",
    "                        'mailingAddress.formattedAddress', 'mailingAddress.addressLine2']]\n",
    "owner_dim.head(2)"
   ]
  },
  {
   "cell_type": "code",
   "execution_count": null,
   "metadata": {},
   "outputs": [],
   "source": [
    "property_fact = real_estate_df.merge(location_dim, on=['id', 'addressLine1', 'city', 'state', 'zipCode', \\\n",
    "                                                     'formattedAddress', 'county', 'longitude', 'latitude'], how='left') \\\n",
    "                              .merge(features_dim, on=['id','squareFootage', 'bedrooms', 'bathrooms'], how='left') \\\n",
    "                               .merge(sales_dim, on=['id', 'lastSalePrice', 'lastSaleDate'], how='left') \\\n",
    "                               .merge(tax_assessment_dim, on='id', how='left') \\\n",
    "                               .merge(propertyTax_dim, on=['id'], how='left') \\\n",
    "                               .merge(owner_dim, on=['id'], how='left') \\\n",
    "                               [['id','location_id', 'property_tax_id', 'features_id', 'sales_id','tax_ass_id','owner_id', \\\n",
    "                                 'assessorID','legalDescription', 'ownerOccupied','yearBuilt', 'zoning', 'lotSize', \\\n",
    "                                'propertyType','subdivision']]                         \n"
   ]
  },
  {
   "cell_type": "code",
   "execution_count": null,
   "metadata": {},
   "outputs": [],
   "source": [
    "property_fact.head(3)"
   ]
  },
  {
   "cell_type": "code",
   "execution_count": null,
   "metadata": {},
   "outputs": [],
   "source": [
    "#saving to csv\n",
    "real_estate_df.to_csv('dataset/rawdata/real_estate.csv', index=False)\n",
    "features_dim.to_csv('dataset/cleandata/features.csv', index=False)\n",
    "sales_dim.to_csv('dataset/cleandata/sales.csv', index=False)\n",
    "tax_assessment_dim.to_csv('dataset/cleandata/tax_assessment.csv', index=False)\n",
    "propertyTax_dim.to_csv('dataset/cleandata/propertyTax.csv', index=False)\n",
    "owner_dim.to_csv('dataset/cleandata/owner.csv', index=False)\n",
    "location_dim.to_csv('dataset/cleandata/location.csv', index=False)\n",
    "print('Data correctly written to csv successfully')\n"
   ]
  },
  {
   "cell_type": "code",
   "execution_count": null,
   "metadata": {},
   "outputs": [],
   "source": [
    "# Setup our connection\n",
    "connection_string = os.getenv('AZURE_STORAGE_CONNECTION_STRING')\n",
    "container_name = os.getenv('AZURE_STORAGE_CONTAINER_NAME')\n",
    "\n",
    "blob_service_client = BlobServiceClient.from_connection_string(connection_string)\n",
    "container_client = blob_service_client.get_container_client(container_name)\n"
   ]
  },
  {
   "cell_type": "code",
   "execution_count": null,
   "metadata": {},
   "outputs": [],
   "source": [
    "def upload_df_to_blob_parquet(df, container_client, blob_name):\n",
    "    buffer = io.BytesIO()\n",
    "    df.to_parquet(buffer, index=False)\n",
    "    buffer.seek(0)\n",
    "    blob_client = container_client.get_blob_client(blob_name)\n",
    "    blob_client.upload_blob(buffer, blob_type=\"BlockBlob\",overwrite=True)\n",
    "    print(f'{blob_name} uploaded to Blob storage successfully')"
   ]
  },
  {
   "cell_type": "code",
   "execution_count": null,
   "metadata": {},
   "outputs": [],
   "source": [
    "upload_df_to_blob_parquet(real_estate_df, container_client, 'rawdata/real_estate.parquet')\n",
    "upload_df_to_blob_parquet(features_dim, container_client, 'cleandata/features.parquet')\n",
    "upload_df_to_blob_parquet(sales_dim, container_client, 'cleandata/sales.parquet')\n",
    "upload_df_to_blob_parquet(tax_assessment_dim, container_client, 'cleandata/tax_assessment.parquet')\n",
    "upload_df_to_blob_parquet(propertyTax_dim, container_client, 'cleandata/propertyTax.parquet')\n",
    "upload_df_to_blob_parquet(owner_dim, container_client, 'cleandata/owner.parquet')\n",
    "upload_df_to_blob_parquet(location_dim, container_client, 'cleandata/location.parquet')"
   ]
  },
  {
   "cell_type": "code",
   "execution_count": null,
   "metadata": {},
   "outputs": [],
   "source": []
  },
  {
   "cell_type": "code",
   "execution_count": null,
   "metadata": {},
   "outputs": [],
   "source": []
  },
  {
   "cell_type": "code",
   "execution_count": null,
   "metadata": {},
   "outputs": [],
   "source": []
  },
  {
   "cell_type": "code",
   "execution_count": null,
   "metadata": {},
   "outputs": [],
   "source": []
  },
  {
   "cell_type": "code",
   "execution_count": null,
   "metadata": {},
   "outputs": [],
   "source": []
  },
  {
   "cell_type": "code",
   "execution_count": null,
   "metadata": {},
   "outputs": [],
   "source": []
  },
  {
   "cell_type": "code",
   "execution_count": null,
   "metadata": {},
   "outputs": [],
   "source": []
  },
  {
   "cell_type": "code",
   "execution_count": null,
   "metadata": {},
   "outputs": [],
   "source": []
  },
  {
   "cell_type": "code",
   "execution_count": null,
   "metadata": {},
   "outputs": [],
   "source": []
  },
  {
   "cell_type": "code",
   "execution_count": null,
   "metadata": {},
   "outputs": [],
   "source": []
  },
  {
   "cell_type": "code",
   "execution_count": null,
   "metadata": {},
   "outputs": [],
   "source": []
  },
  {
   "cell_type": "code",
   "execution_count": null,
   "metadata": {},
   "outputs": [],
   "source": []
  },
  {
   "cell_type": "code",
   "execution_count": null,
   "metadata": {},
   "outputs": [],
   "source": []
  },
  {
   "cell_type": "code",
   "execution_count": null,
   "metadata": {},
   "outputs": [],
   "source": []
  },
  {
   "cell_type": "code",
   "execution_count": null,
   "metadata": {},
   "outputs": [],
   "source": []
  },
  {
   "cell_type": "code",
   "execution_count": null,
   "metadata": {},
   "outputs": [],
   "source": []
  },
  {
   "cell_type": "code",
   "execution_count": null,
   "metadata": {},
   "outputs": [],
   "source": []
  },
  {
   "cell_type": "code",
   "execution_count": null,
   "metadata": {},
   "outputs": [],
   "source": []
  },
  {
   "cell_type": "code",
   "execution_count": null,
   "metadata": {},
   "outputs": [],
   "source": []
  },
  {
   "cell_type": "code",
   "execution_count": null,
   "metadata": {},
   "outputs": [],
   "source": []
  },
  {
   "cell_type": "code",
   "execution_count": null,
   "metadata": {},
   "outputs": [],
   "source": []
  },
  {
   "cell_type": "code",
   "execution_count": null,
   "metadata": {},
   "outputs": [],
   "source": []
  },
  {
   "cell_type": "code",
   "execution_count": null,
   "metadata": {},
   "outputs": [],
   "source": []
  }
 ],
 "metadata": {
  "kernelspec": {
   "display_name": "Python 3",
   "language": "python",
   "name": "python3"
  },
  "language_info": {
   "codemirror_mode": {
    "name": "ipython",
    "version": 3
   },
   "file_extension": ".py",
   "mimetype": "text/x-python",
   "name": "python",
   "nbconvert_exporter": "python",
   "pygments_lexer": "ipython3",
   "version": "3.12.2"
  }
 },
 "nbformat": 4,
 "nbformat_minor": 2
}
